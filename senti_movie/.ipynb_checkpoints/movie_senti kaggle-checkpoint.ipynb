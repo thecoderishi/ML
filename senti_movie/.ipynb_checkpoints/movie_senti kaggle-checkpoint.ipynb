{
 "cells": [
  {
   "cell_type": "code",
   "execution_count": 1,
   "metadata": {},
   "outputs": [],
   "source": [
    "import nltk\n",
    "import numpy as np\n",
    "import pandas as pd\n",
    "import re"
   ]
  },
  {
   "cell_type": "code",
   "execution_count": 2,
   "metadata": {},
   "outputs": [
    {
     "data": {
      "text/html": [
       "<div>\n",
       "<style scoped>\n",
       "    .dataframe tbody tr th:only-of-type {\n",
       "        vertical-align: middle;\n",
       "    }\n",
       "\n",
       "    .dataframe tbody tr th {\n",
       "        vertical-align: top;\n",
       "    }\n",
       "\n",
       "    .dataframe thead th {\n",
       "        text-align: right;\n",
       "    }\n",
       "</style>\n",
       "<table border=\"1\" class=\"dataframe\">\n",
       "  <thead>\n",
       "    <tr style=\"text-align: right;\">\n",
       "      <th></th>\n",
       "      <th>PhraseId</th>\n",
       "      <th>SentenceId</th>\n",
       "      <th>Phrase</th>\n",
       "      <th>Sentiment</th>\n",
       "    </tr>\n",
       "  </thead>\n",
       "  <tbody>\n",
       "    <tr>\n",
       "      <th>29173</th>\n",
       "      <td>29174</td>\n",
       "      <td>1350</td>\n",
       "      <td>meant to make you think about existential suff...</td>\n",
       "      <td>2</td>\n",
       "    </tr>\n",
       "    <tr>\n",
       "      <th>42570</th>\n",
       "      <td>42571</td>\n",
       "      <td>2053</td>\n",
       "      <td>this properly intense , claustrophobic tale</td>\n",
       "      <td>2</td>\n",
       "    </tr>\n",
       "    <tr>\n",
       "      <th>17202</th>\n",
       "      <td>17203</td>\n",
       "      <td>746</td>\n",
       "      <td>film a must for everyone</td>\n",
       "      <td>3</td>\n",
       "    </tr>\n",
       "    <tr>\n",
       "      <th>33697</th>\n",
       "      <td>33698</td>\n",
       "      <td>1582</td>\n",
       "      <td>regret</td>\n",
       "      <td>1</td>\n",
       "    </tr>\n",
       "    <tr>\n",
       "      <th>36280</th>\n",
       "      <td>36281</td>\n",
       "      <td>1714</td>\n",
       "      <td>have done in half an hour</td>\n",
       "      <td>1</td>\n",
       "    </tr>\n",
       "  </tbody>\n",
       "</table>\n",
       "</div>"
      ],
      "text/plain": [
       "       PhraseId  SentenceId  \\\n",
       "29173     29174        1350   \n",
       "42570     42571        2053   \n",
       "17202     17203         746   \n",
       "33697     33698        1582   \n",
       "36280     36281        1714   \n",
       "\n",
       "                                                  Phrase  Sentiment  \n",
       "29173  meant to make you think about existential suff...          2  \n",
       "42570        this properly intense , claustrophobic tale          2  \n",
       "17202                           film a must for everyone          3  \n",
       "33697                                             regret          1  \n",
       "36280                          have done in half an hour          1  "
      ]
     },
     "execution_count": 2,
     "metadata": {},
     "output_type": "execute_result"
    }
   ],
   "source": [
    "df = pd.read_csv(\"train.tsv\", sep=\"\\t\", nrows=60000)\n",
    "df.sample(5)"
   ]
  },
  {
   "cell_type": "code",
   "execution_count": 3,
   "metadata": {},
   "outputs": [
    {
     "data": {
      "text/plain": [
       "(60000, 4)"
      ]
     },
     "execution_count": 3,
     "metadata": {},
     "output_type": "execute_result"
    }
   ],
   "source": [
    "df.shape"
   ]
  },
  {
   "cell_type": "code",
   "execution_count": 4,
   "metadata": {},
   "outputs": [],
   "source": [
    "df[\"Phrase\"] = df[\"Phrase\"].str.lower()\n",
    "# df.sample(5)"
   ]
  },
  {
   "cell_type": "code",
   "execution_count": 5,
   "metadata": {},
   "outputs": [],
   "source": [
    "def remove_pat(s1, pat, nstr):\n",
    "    return re.sub(pat, nstr, s1)\n",
    "df[\"Phrase\"] = np.vectorize(remove_pat)(df[\"Phrase\"], \"[^a-z]+\", \" \")\n",
    "# df.sample(5)"
   ]
  },
  {
   "cell_type": "code",
   "execution_count": 6,
   "metadata": {},
   "outputs": [],
   "source": [
    "df[\"NewPhrase\"] = np.vectorize(remove_pat)(df[\"Phrase\"], r\"\\b[a-z]{1,2}\\b\", \" \")\n",
    "# df.sample(10)"
   ]
  },
  {
   "cell_type": "code",
   "execution_count": 7,
   "metadata": {},
   "outputs": [],
   "source": [
    "# df.Sentiment.replace([0], [1], inplace=True)\n",
    "# df.Sentiment.replace([1], [1], inplace=True)\n",
    "# df.Sentiment.replace([2], [1], inplace=True)\n",
    "# df.Sentiment.replace([3], [0], inplace=True)\n",
    "# df.Sentiment.replace([4], [0], inplace=True)"
   ]
  },
  {
   "cell_type": "code",
   "execution_count": 8,
   "metadata": {},
   "outputs": [
    {
     "data": {
      "text/plain": [
       "(60000, 3500)"
      ]
     },
     "execution_count": 8,
     "metadata": {},
     "output_type": "execute_result"
    }
   ],
   "source": [
    "from sklearn.feature_extraction.text import TfidfVectorizer\n",
    "import numpy as np\n",
    "df = df[df[\"Sentiment\"].isin([0,1,2,3,4])]\n",
    "tfidf_vectorizer = TfidfVectorizer(max_df=0.90, min_df=1, max_features=3500, stop_words='english')\n",
    "bow = tfidf_vectorizer.fit_transform(df['Phrase'])\n",
    "bow.shape"
   ]
  },
  {
   "cell_type": "code",
   "execution_count": null,
   "metadata": {},
   "outputs": [],
   "source": [
    "from sklearn.model_selection import train_test_split\n",
    "from sklearn.metrics import confusion_matrix\n",
    "from sklearn.ensemble import RandomForestClassifier\n",
    "from xgboost import XGBClassifier\n",
    "from sklearn.naive_bayes import MultinomialNB\n",
    "X = bow\n",
    "y = df[\"Sentiment\"]\n",
    "X_train, X_test, y_train, y_test = train_test_split(X, y, test_size=0.1)\n",
    "\n",
    "# model = MultinomialNB()\n",
    "model = RandomForestClassifier(n_estimators=10, max_depth=550, max_leaf_nodes=None)\n",
    "model.fit(X_train, y_train)\n",
    "\n",
    "print(model.score(X_test, y_test))\n",
    "\n",
    "yp = model.predict(X_test)\n",
    "cm = confusion_matrix(yp, y_test)\n",
    "y_test[y_test==1].count()\n",
    "cm"
   ]
  },
  {
   "cell_type": "code",
   "execution_count": null,
   "metadata": {},
   "outputs": [],
   "source": [
    "threshold = 0.4\n",
    "yp2_prob = model.predict_proba(X_test)\n",
    "yp2 = (yp2_prob [:,1] >= threshold).astype('int')\n",
    "cm = confusion_matrix(yp2, y_test)\n",
    "y_test[y_test==1].count()\n",
    "cm"
   ]
  }
 ],
 "metadata": {
  "kernelspec": {
   "display_name": "Python 3",
   "language": "python",
   "name": "python3"
  },
  "language_info": {
   "codemirror_mode": {
    "name": "ipython",
    "version": 3
   },
   "file_extension": ".py",
   "mimetype": "text/x-python",
   "name": "python",
   "nbconvert_exporter": "python",
   "pygments_lexer": "ipython3",
   "version": "3.6.5"
  }
 },
 "nbformat": 4,
 "nbformat_minor": 2
}
